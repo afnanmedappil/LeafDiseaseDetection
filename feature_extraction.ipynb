{
 "cells": [
  {
   "cell_type": "code",
   "execution_count": 1,
   "metadata": {},
   "outputs": [],
   "source": [
    "import numpy as np\n",
    "from PIL import Image\n",
    "import pandas as pd\n",
    "from sklearn.cluster import KMeans\n",
    "import cv2\n",
    "import datetime\n",
    "from matplotlib import pyplot as plttrain_images\n",
    "from skimage.feature import greycomatrix, greycoprops\n",
    "import csv\n",
    "import time"
   ]
  },
  {
   "cell_type": "code",
   "execution_count": 2,
   "metadata": {},
   "outputs": [],
   "source": [
    "features =['Contrast', 'Correlation', 'Energy', 'Homogeneity','image_id','label']\n",
    "finalfeatures=[]\n",
    "general_path = './'\n",
    "train = pd.read_csv(general_path + 'train1.csv')\n",
    "for i in range(1, 5663):\n",
    "    img = Image.open(general_path + 'Segmentedimages/' + train.iloc[i]['image_id']) \n",
    "    imgray = np.array(img.convert('L', colors=8))\n",
    "    glcm= greycomatrix(imgray, distances = [1], angles = [0], levels = 257, symmetric=True)\n",
    "    #stats= greycoprops(glcm,'contrast correlation energy homogeneity')\n",
    "    Contrast= greycoprops(glcm,'contrast')\n",
    "    Correlation=greycoprops(glcm,'correlation')\n",
    "    Energy=greycoprops(glcm,'energy')\n",
    "    Homogeneity=greycoprops(glcm,'homogeneity')\n",
    "    #print(stats)\n",
    "    #Contrast=stats.contrast\n",
    "    #stats= greycoprops(glcm,'correlation')\n",
    "    #Correlation=stats.correlation\n",
    "    #stats= greycoprops(glcm,'energy')\n",
    "    #Energy=stats.energy\n",
    "    #stats= greycoprops(glcm,'homogeneity')\n",
    "    #Homogeneity=stats.homogeneity\n",
    "    features =[Contrast[0,0], Correlation[0,0], Energy[0,0], Homogeneity[0,0],train.iloc[i]['image_id'],train.iloc[i]['label']]\n",
    "    finalfeatures.append(features)\n",
    "    #print(features)\n",
    "\n",
    "    "
   ]
  },
  {
   "cell_type": "code",
   "execution_count": 5,
   "metadata": {},
   "outputs": [],
   "source": [
    "fields = ['Contrast', 'Correlation', 'Energy', 'Homogeneity','image_id','label']\n",
    "with open('final_train.csv', 'w',newline='') as f:\n",
    "      \n",
    "        # using csv.writer method from CSV package\n",
    "        write = csv.writer(f)\n",
    "        write.writerow(fields)\n",
    "        write.writerows(finalfeatures)        "
   ]
  },
  {
   "cell_type": "code",
   "execution_count": null,
   "metadata": {},
   "outputs": [],
   "source": []
  },
  {
   "cell_type": "code",
   "execution_count": null,
   "metadata": {},
   "outputs": [],
   "source": []
  },
  {
   "cell_type": "code",
   "execution_count": null,
   "metadata": {},
   "outputs": [],
   "source": []
  }
 ],
 "metadata": {
  "kernelspec": {
   "display_name": "Python 3",
   "language": "python",
   "name": "python3"
  },
  "language_info": {
   "codemirror_mode": {
    "name": "ipython",
    "version": 3
   },
   "file_extension": ".py",
   "mimetype": "text/x-python",
   "name": "python",
   "nbconvert_exporter": "python",
   "pygments_lexer": "ipython3",
   "version": "3.8.5"
  }
 },
 "nbformat": 4,
 "nbformat_minor": 4
}

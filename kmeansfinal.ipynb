{
 "cells": [
  {
   "cell_type": "code",
   "execution_count": 1,
   "metadata": {},
   "outputs": [],
   "source": [
    "import numpy as np\n",
    "from PIL import Image\n",
    "import pandas as pd\n",
    "from sklearn.cluster import KMeans\n",
    "import cv2\n",
    "import datetime\n",
    "from matplotlib import pyplot as plttrain_images\n",
    "import time\n",
    "\n",
    "general_path = './'\n",
    "train = pd.read_csv(general_path + 'train1.csv')\n",
    "for i in range(1, 5663):\n",
    "    img = Image.open(general_path + 'preprocessed/' + train.iloc[i]['image_id'])\n",
    "    image=cv2.cvtColor(np.array(img), cv2.COLOR_RGB2BGR)\n",
    "    pixel_vals = image.reshape((-1,3))\n",
    "    pixel_vals = np.float32(pixel_vals)\n",
    "    criteria = (cv2.TERM_CRITERIA_EPS + cv2.TERM_CRITERIA_MAX_ITER, 100, 0.85)\n",
    "  \n",
    "    # then perform k-means clustering wit h number of clusters defined as 3\n",
    "    #also random centres are initally chosed for k-means clustering\n",
    "    k = 3\n",
    "    retval, labels, centers = cv2.kmeans(pixel_vals, k, None, criteria, 10, cv2.KMEANS_RANDOM_CENTERS)\n",
    "  \n",
    "    # convert data into 8-bit values\n",
    "    centers = np.uint8(centers)\n",
    "    segmented_data = centers[labels.flatten()]\n",
    "  \n",
    "    # reshape data into the original image dimensions\n",
    "    segmented_image = segmented_data.reshape((image.shape))\n",
    "    color_coverted = cv2.cvtColor(segmented_image, cv2.COLOR_BGR2RGB)\n",
    "    pil_image=Image.fromarray(color_coverted)\n",
    "    pil_image.save('./Segmentedimages/'+train.iloc[i]['image_id'], 'JPEG')"
   ]
  }
 ],
 "metadata": {
  "kernelspec": {
   "display_name": "Python 3",
   "language": "python",
   "name": "python3"
  },
  "language_info": {
   "codemirror_mode": {
    "name": "ipython",
    "version": 3
   },
   "file_extension": ".py",
   "mimetype": "text/x-python",
   "name": "python",
   "nbconvert_exporter": "python",
   "pygments_lexer": "ipython3",
   "version": "3.8.5"
  }
 },
 "nbformat": 4,
 "nbformat_minor": 5
}
